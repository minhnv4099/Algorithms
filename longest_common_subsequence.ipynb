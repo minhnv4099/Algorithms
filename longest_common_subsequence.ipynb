{
 "cells": [
  {
   "cell_type": "code",
   "execution_count": 48,
   "id": "9c42645a",
   "metadata": {},
   "outputs": [
    {
     "data": {
      "text/plain": [
       "True"
      ]
     },
     "execution_count": 48,
     "metadata": {},
     "output_type": "execute_result"
    }
   ],
   "source": [
    "import pandas as pd\n",
    "import numpy as np\n",
    "\n",
    "s1 = 'ACCGGTCGAGTGCGCGGAAGCCGGCCGAA'\n",
    "s2 = 'GTCGTTCGGAATGCCGTTGCTCTGTAAA'\n",
    "result = 'GTCGTCGGAAGCCGGCCGAA'\n",
    "\n",
    "def longest_common_subsequence(s1,s2):\n",
    "    n1 = len(s1)\n",
    "    n2 = len(s2)\n",
    "    length_table = np.array([[np.nan]*(len(s2)+1) for i in range(len(s1)+1)])\n",
    "    strack_table = np.array([[np.nan]*(len(s2)) for i in range(len(s1))],dtype='object')\n",
    "    length_table[0] = 0\n",
    "    length_table[:,0] = 0\n",
    "    for i in range(1,len(s1)+1):\n",
    "        for j in range(1,len(s2)+1):\n",
    "            if s1[i-1] == s2[j-1]:\n",
    "                length_table[i,j] = length_table[i-1,j-1] + 1\n",
    "                strack_table[i-1,j-1] = 'xl'\n",
    "            elif length_table[i,j-1] >= length_table[i-1,j]:\n",
    "                length_table[i,j] = length_table[i,j-1]\n",
    "                strack_table[i-1,j-1] = 'nt'\n",
    "            else:\n",
    "                length_table[i,j] = length_table[i-1,j]\n",
    "                strack_table[i-1,j-1] = 'dl'\n",
    "    return length_table,construct_solution(strack_table,s1,s2)\n",
    "\n",
    "def construct_solution(strack_table,s1,s2):\n",
    "    n,m = strack_table.shape\n",
    "    s = ''\n",
    "    while (n != 0 and m != 0):\n",
    "        if strack_table[n-1,m-1] == 'xl':\n",
    "            s += s1[n-1]\n",
    "            n -= 1\n",
    "            m -= 1\n",
    "        elif strack_table[n-1,m-1] == 'nt':\n",
    "            m -= 1\n",
    "        else:\n",
    "            n -= 1\n",
    "    return s[-1:-len(s)-1:-1]\n",
    "        \n",
    "l,s = longest_common_subsequence(s1,s2)\n",
    "s == result"
   ]
  },
  {
   "cell_type": "code",
   "execution_count": null,
   "id": "38236600",
   "metadata": {},
   "outputs": [],
   "source": []
  }
 ],
 "metadata": {
  "kernelspec": {
   "display_name": "Python 3.9 (tensorflow)",
   "language": "python",
   "name": "tensorflow"
  },
  "language_info": {
   "codemirror_mode": {
    "name": "ipython",
    "version": 3
   },
   "file_extension": ".py",
   "mimetype": "text/x-python",
   "name": "python",
   "nbconvert_exporter": "python",
   "pygments_lexer": "ipython3",
   "version": "3.9.15"
  }
 },
 "nbformat": 4,
 "nbformat_minor": 5
}
