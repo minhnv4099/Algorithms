{
 "cells": [
  {
   "cell_type": "code",
   "execution_count": 71,
   "id": "a20ec03e",
   "metadata": {},
   "outputs": [
    {
     "data": {
      "text/plain": [
       "([0, 0, 0, 5, 5, 7, 8, 10, 10, 12, 13, 15, 15, 17, 18, 20, 20, 22, 23, 25, 25],\n",
       " '11111')"
      ]
     },
     "execution_count": 71,
     "metadata": {},
     "output_type": "execute_result"
    }
   ],
   "source": [
    "import pandas as pd\n",
    "\n",
    "items = pd.DataFrame({'price': [5,7,8],'weight':[4,6,7]})\n",
    "items.index += 1\n",
    "\n",
    "def knapsack(p,n):\n",
    "    price_table = [0]*(n+1)\n",
    "    strack_table = [0]*(n+1)\n",
    "    for i in p.index:\n",
    "        for capacity in range(1,n+1):\n",
    "            capacity_tmp = capacity\n",
    "            while(capacity_tmp >= p.loc[i,'weight']):\n",
    "                capacity_tmp -= p.loc[i,'weight']\n",
    "                q = price_table[capacity_tmp] + p.loc[i,'price']\n",
    "                if q > price_table[capacity]:\n",
    "                    price_table[capacity] = q\n",
    "                    strack_table[capacity] = i\n",
    "\n",
    "    return price_table[1:],construct_solution(p,strack_table,n)\n",
    "            \n",
    "def construct_solution(p,strack_table,n):\n",
    "    s = ''\n",
    "    if n >= p['weight'].min():\n",
    "        s += str(strack_table[n])\n",
    "        s += construct_solution(p,strack_table,n=n-p.loc[strack_table[n],'weight'])\n",
    "    return s\n",
    "\n",
    "knapsack(items,21)\n",
    "    \n"
   ]
  },
  {
   "cell_type": "code",
   "execution_count": null,
   "id": "1ad57e5a",
   "metadata": {},
   "outputs": [],
   "source": []
  }
 ],
 "metadata": {
  "kernelspec": {
   "display_name": "Python 3.9 (tensorflow)",
   "language": "python",
   "name": "tensorflow"
  },
  "language_info": {
   "codemirror_mode": {
    "name": "ipython",
    "version": 3
   },
   "file_extension": ".py",
   "mimetype": "text/x-python",
   "name": "python",
   "nbconvert_exporter": "python",
   "pygments_lexer": "ipython3",
   "version": "3.9.15"
  }
 },
 "nbformat": 4,
 "nbformat_minor": 5
}
