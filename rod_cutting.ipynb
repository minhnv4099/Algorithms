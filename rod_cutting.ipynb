{
 "cells": [
  {
   "cell_type": "code",
   "execution_count": 18,
   "id": "7f21dd25",
   "metadata": {},
   "outputs": [
    {
     "name": "stdout",
     "output_type": "stream",
     "text": [
      "2x1,3x2, [0, 1, 5, 8, 10, 13, 16, 18, 21]\n"
     ]
    }
   ],
   "source": [
    "def rod_cutting(p,n):\n",
    "    cost_table = [0]*(n+1)\n",
    "    strack_table = [0]*(n+1)\n",
    "    for l in range(1,n+1):\n",
    "        for right_side in range(1,l+1):\n",
    "            left_side = l - right_side\n",
    "            if right_side == l:\n",
    "                q = p[right_side]\n",
    "            else:\n",
    "                q = cost_table[left_side] + cost_table[right_side]\n",
    "            #q = cost_table[left_side] + p[right_side]\n",
    "            if q > cost_table[l]:\n",
    "                cost_table[l] = q\n",
    "                strack_table[l] = right_side\n",
    "    return cost_table,construct_solution(strack_table,n)\n",
    "\n",
    "def construct_solution(strack_table,n):\n",
    "    solution = ''\n",
    "    while n != 0:\n",
    "        solution += str(strack_table[n])\n",
    "        solution += ' '\n",
    "        n -= strack_table[n]\n",
    "    tmp = solution.split(' ')\n",
    "    tmp.remove('')\n",
    "    partion_solution = ''\n",
    "    for l in sorted(set(tmp),key=lambda x: int(x),reverse=False):\n",
    "        partion_solution += l +'x'+ str(tmp.count(l))+','\n",
    "    return partion_solution\n",
    "    \n",
    "\n",
    "    \n",
    "            \n",
    "p = [0,1,5,8,9,10,13,17,20,24,30]\n",
    "c,s = rod_cutting(p,8)\n",
    "print(s,c)\n"
   ]
  },
  {
   "cell_type": "code",
   "execution_count": null,
   "id": "5f15a3aa",
   "metadata": {},
   "outputs": [],
   "source": []
  },
  {
   "cell_type": "code",
   "execution_count": null,
   "id": "2e51f6a6",
   "metadata": {},
   "outputs": [],
   "source": []
  },
  {
   "cell_type": "code",
   "execution_count": null,
   "id": "48dfb9ff",
   "metadata": {},
   "outputs": [],
   "source": []
  }
 ],
 "metadata": {
  "kernelspec": {
   "display_name": "Python 3.9 (tensorflow)",
   "language": "python",
   "name": "tensorflow"
  },
  "language_info": {
   "codemirror_mode": {
    "name": "ipython",
    "version": 3
   },
   "file_extension": ".py",
   "mimetype": "text/x-python",
   "name": "python",
   "nbconvert_exporter": "python",
   "pygments_lexer": "ipython3",
   "version": "3.9.15"
  }
 },
 "nbformat": 4,
 "nbformat_minor": 5
}
